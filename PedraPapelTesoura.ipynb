{
  "nbformat": 4,
  "nbformat_minor": 0,
  "metadata": {
    "colab": {
      "provenance": [],
      "authorship_tag": "ABX9TyO9OBg/AgMKSHSWectmdYeZ",
      "include_colab_link": true
    },
    "kernelspec": {
      "name": "python3",
      "display_name": "Python 3"
    },
    "language_info": {
      "name": "python"
    }
  },
  "cells": [
    {
      "cell_type": "markdown",
      "metadata": {
        "id": "view-in-github",
        "colab_type": "text"
      },
      "source": [
        "<a href=\"https://colab.research.google.com/github/devJuanMiarelli/pedra-papel-tesoura/blob/main/PedraPapelTesoura.ipynb\" target=\"_parent\"><img src=\"https://colab.research.google.com/assets/colab-badge.svg\" alt=\"Open In Colab\"/></a>"
      ]
    },
    {
      "cell_type": "markdown",
      "source": [
        "# ***Jogo de Pedra, Papel e Tesoura***"
      ],
      "metadata": {
        "id": "OQH1pWMwV-sw"
      }
    },
    {
      "cell_type": "markdown",
      "source": [
        "- importando \"biblioteca\" para randomizar escolha da máquina"
      ],
      "metadata": {
        "id": "8NaOvn9Gcro_"
      }
    },
    {
      "cell_type": "code",
      "execution_count": 1,
      "metadata": {
        "id": "bBhm_Ed4V2Re"
      },
      "outputs": [],
      "source": [
        "import random"
      ]
    },
    {
      "cell_type": "markdown",
      "source": [
        "- Definição da função:\n"
      ],
      "metadata": {
        "id": "Tayr9zsfWvGO"
      }
    },
    {
      "cell_type": "code",
      "source": [
        "def jokenpo(usuario):\n",
        "  escolhas = ['pedra', 'papel', 'tesoura']\n",
        "  maquina = random.choice(escolhas)\n",
        "\n",
        "  print(f\"Sua escolha: {usuario}\")\n",
        "  print(f\"Escolha da máquina: {maquina}\")\n",
        "\n",
        "  resultado = regras(usuario, maquina)\n",
        "  return resultado"
      ],
      "metadata": {
        "id": "-WAgR164XTjn"
      },
      "execution_count": 11,
      "outputs": []
    },
    {
      "cell_type": "markdown",
      "source": [
        "- Função de regras do jogo: **negrito**"
      ],
      "metadata": {
        "id": "JNubeVWRZlHb"
      }
    },
    {
      "cell_type": "code",
      "source": [
        "def regras(usuario, maquina):\n",
        "  match (usuario, maquina):\n",
        "        case ('pedra', 'pedra') | ('papel', 'papel') | ('tesoura', 'tesoura'):\n",
        "            return \"Empate!\"\n",
        "        case ('pedra', 'tesoura') | ('papel', 'pedra') | ('tesoura', 'papel'):\n",
        "            return \"Você ganhou!\"\n",
        "        case _:\n",
        "            return \"Você perdeu!\""
      ],
      "metadata": {
        "id": "fIxYbnJ0ZpH8"
      },
      "execution_count": 3,
      "outputs": []
    },
    {
      "cell_type": "markdown",
      "source": [
        "- Aplicando o jogo:"
      ],
      "metadata": {
        "id": "r8Z4qiieaHlZ"
      }
    },
    {
      "cell_type": "code",
      "source": [
        "def jogar():\n",
        "  usuario = input(\"Escolha 'pedra', 'papel' ou 'tesoura': \")\n",
        "\n",
        "  if usuario not in ['pedra', 'papel', 'tesoura']:\n",
        "        print(\"Escolha inexistente, escolha algo válido.\")\n",
        "        jogar()\n",
        "  else:\n",
        "        resultado = jokenpo(usuario)\n",
        "        print(resultado)"
      ],
      "metadata": {
        "id": "6oIrXziEaMSl"
      },
      "execution_count": 4,
      "outputs": []
    },
    {
      "cell_type": "markdown",
      "source": [
        "- Validação jogar ou sair:"
      ],
      "metadata": {
        "id": "WFJpEaE0cbX5"
      }
    },
    {
      "cell_type": "code",
      "source": [
        "def jogo():\n",
        "    print(\"Bem-vindo ao Jokenpô!\")\n",
        "    print(\"1. Jogar\")\n",
        "    print(\"2. Sair\")\n",
        "\n",
        "    escolha = input(\"Escolha 1 para jogar ou 2 para sair: \")\n",
        "\n",
        "    if escolha == '1':\n",
        "        jogar()\n",
        "    elif escolha == '2':\n",
        "        print(\"Até logo! Obrigado por jogar.\")\n",
        "    else:\n",
        "        print(\"Opção inválida. Por favor, escolha 1 ou 2.\")\n",
        "        jogo()"
      ],
      "metadata": {
        "id": "npEQGWcnci1w"
      },
      "execution_count": 5,
      "outputs": []
    },
    {
      "cell_type": "markdown",
      "source": [
        "***\n",
        "- Início do jogo\n",
        "***"
      ],
      "metadata": {
        "id": "rfq3WYXzdCCo"
      }
    },
    {
      "cell_type": "code",
      "source": [
        "jogo()"
      ],
      "metadata": {
        "colab": {
          "base_uri": "https://localhost:8080/"
        },
        "id": "Wkob4JRmdQSZ",
        "outputId": "c8d61782-5a3e-450c-c226-9185fe92c231"
      },
      "execution_count": 12,
      "outputs": [
        {
          "output_type": "stream",
          "name": "stdout",
          "text": [
            "Bem-vindo ao Jokenpô!\n",
            "1. Jogar\n",
            "2. Sair\n",
            "Escolha 1 para jogar ou 2 para sair: 1\n",
            "Escolha 'pedra', 'papel' ou 'tesoura': pedra\n",
            "Sua escolha: pedra\n",
            "Escolha da máquina: papel\n",
            "Você perdeu!\n"
          ]
        }
      ]
    }
  ]
}